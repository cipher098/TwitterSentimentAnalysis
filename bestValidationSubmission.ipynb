{
 "cells": [
  {
   "cell_type": "code",
   "execution_count": 95,
   "metadata": {},
   "outputs": [],
   "source": [
    "import pandas as pd\n",
    "import numpy as np\n",
    "import re\n",
    "import nltk\n",
    "\n",
    "import importantFunctions as iFunc\n",
    "from io import StringIO\n",
    "from string import punctuation\n",
    "from sklearn.feature_extraction.text import CountVectorizer, TfidfTransformer\n",
    "from sklearn.model_selection import train_test_split \n",
    "from sklearn.naive_bayes import MultinomialNB\n",
    "from sklearn.linear_model import SGDClassifier\n",
    "from sklearn.svm import SVC, NuSVC, LinearSVC\n",
    "\n",
    "#Visualizations library\n",
    "import seaborn as sns \n",
    "import matplotlib.pyplot as plt\n",
    "import graphviz \n",
    "\n",
    "from nltk.corpus import brown\n",
    "from nltk.corpus import stopwords\n",
    "from nltk import sent_tokenize, word_tokenize\n",
    "from nltk import pos_tag\n",
    "from nltk.stem import WordNetLemmatizer\n",
    "\n",
    "# Model selection and evaluation\n",
    "from sklearn.model_selection import KFold, cross_val_score, train_test_split, learning_curve\n",
    "from sklearn.metrics import mean_squared_error\n",
    "from sklearn import metrics\n",
    "from sklearn.model_selection import GridSearchCV \n",
    "from sklearn.metrics import f1_score\n",
    "from sklearn.metrics import accuracy_score\n",
    "from sklearn.metrics import roc_auc_score\n",
    "from sklearn.metrics import classification_report\n",
    "from sklearn.metrics import confusion_matrix\n",
    "from sklearn.metrics import log_loss\n",
    "from sklearn.metrics import precision_score, recall_score\n",
    "from sklearn.metrics import precision_recall_fscore_support\n",
    "from sklearn.model_selection import GridSearchCV\n",
    "\n",
    "from sklearn.feature_extraction.text import TfidfTransformer, TfidfVectorizer\n",
    "from sklearn.pipeline import Pipeline"
   ]
  },
  {
   "cell_type": "code",
   "execution_count": 96,
   "metadata": {},
   "outputs": [
    {
     "name": "stdout",
     "output_type": "stream",
     "text": [
      "[nltk_data] Downloading package brown to /home/saurabh/nltk_data...\n",
      "[nltk_data]   Package brown is already up-to-date!\n",
      "[nltk_data] Downloading package punkt to /home/saurabh/nltk_data...\n",
      "[nltk_data]   Package punkt is already up-to-date!\n",
      "[nltk_data] Downloading package averaged_perceptron_tagger to\n",
      "[nltk_data]     /home/saurabh/nltk_data...\n",
      "[nltk_data]   Package averaged_perceptron_tagger is already up-to-\n",
      "[nltk_data]       date!\n",
      "[nltk_data] Downloading package wordnet to /home/saurabh/nltk_data...\n",
      "[nltk_data]   Package wordnet is already up-to-date!\n",
      "[nltk_data] Downloading package stopwords to\n",
      "[nltk_data]     /home/saurabh/nltk_data...\n",
      "[nltk_data]   Package stopwords is already up-to-date!\n"
     ]
    },
    {
     "data": {
      "text/plain": [
       "True"
      ]
     },
     "execution_count": 96,
     "metadata": {},
     "output_type": "execute_result"
    }
   ],
   "source": [
    "\n",
    "nltk.download('brown')\n",
    "nltk.download('punkt')\n",
    "nltk.download('averaged_perceptron_tagger')\n",
    "nltk.download('wordnet')\n",
    "nltk.download('stopwords')"
   ]
  },
  {
   "cell_type": "code",
   "execution_count": 97,
   "metadata": {},
   "outputs": [],
   "source": [
    "train = pd.read_csv('train_E6oV3lV.csv')\n",
    "test = pd.read_csv('test_tweets_anuFYb8.csv')"
   ]
  },
  {
   "cell_type": "code",
   "execution_count": 98,
   "metadata": {},
   "outputs": [
    {
     "data": {
      "text/html": [
       "<div>\n",
       "<style scoped>\n",
       "    .dataframe tbody tr th:only-of-type {\n",
       "        vertical-align: middle;\n",
       "    }\n",
       "\n",
       "    .dataframe tbody tr th {\n",
       "        vertical-align: top;\n",
       "    }\n",
       "\n",
       "    .dataframe thead th {\n",
       "        text-align: right;\n",
       "    }\n",
       "</style>\n",
       "<table border=\"1\" class=\"dataframe\">\n",
       "  <thead>\n",
       "    <tr style=\"text-align: right;\">\n",
       "      <th></th>\n",
       "      <th>id</th>\n",
       "      <th>label</th>\n",
       "      <th>tweet</th>\n",
       "    </tr>\n",
       "  </thead>\n",
       "  <tbody>\n",
       "    <tr>\n",
       "      <th>0</th>\n",
       "      <td>1</td>\n",
       "      <td>0</td>\n",
       "      <td>@user when a father is dysfunctional and is s...</td>\n",
       "    </tr>\n",
       "    <tr>\n",
       "      <th>1</th>\n",
       "      <td>2</td>\n",
       "      <td>0</td>\n",
       "      <td>@user @user thanks for #lyft credit i can't us...</td>\n",
       "    </tr>\n",
       "    <tr>\n",
       "      <th>2</th>\n",
       "      <td>3</td>\n",
       "      <td>0</td>\n",
       "      <td>bihday your majesty</td>\n",
       "    </tr>\n",
       "    <tr>\n",
       "      <th>3</th>\n",
       "      <td>4</td>\n",
       "      <td>0</td>\n",
       "      <td>#model   i love u take with u all the time in ...</td>\n",
       "    </tr>\n",
       "    <tr>\n",
       "      <th>4</th>\n",
       "      <td>5</td>\n",
       "      <td>0</td>\n",
       "      <td>factsguide: society now    #motivation</td>\n",
       "    </tr>\n",
       "  </tbody>\n",
       "</table>\n",
       "</div>"
      ],
      "text/plain": [
       "   id  label                                              tweet\n",
       "0   1      0   @user when a father is dysfunctional and is s...\n",
       "1   2      0  @user @user thanks for #lyft credit i can't us...\n",
       "2   3      0                                bihday your majesty\n",
       "3   4      0  #model   i love u take with u all the time in ...\n",
       "4   5      0             factsguide: society now    #motivation"
      ]
     },
     "execution_count": 98,
     "metadata": {},
     "output_type": "execute_result"
    }
   ],
   "source": [
    "train.head()"
   ]
  },
  {
   "cell_type": "code",
   "execution_count": 99,
   "metadata": {},
   "outputs": [
    {
     "data": {
      "text/html": [
       "<div>\n",
       "<style scoped>\n",
       "    .dataframe tbody tr th:only-of-type {\n",
       "        vertical-align: middle;\n",
       "    }\n",
       "\n",
       "    .dataframe tbody tr th {\n",
       "        vertical-align: top;\n",
       "    }\n",
       "\n",
       "    .dataframe thead th {\n",
       "        text-align: right;\n",
       "    }\n",
       "</style>\n",
       "<table border=\"1\" class=\"dataframe\">\n",
       "  <thead>\n",
       "    <tr style=\"text-align: right;\">\n",
       "      <th></th>\n",
       "      <th>id</th>\n",
       "      <th>tweet</th>\n",
       "    </tr>\n",
       "  </thead>\n",
       "  <tbody>\n",
       "    <tr>\n",
       "      <th>0</th>\n",
       "      <td>31963</td>\n",
       "      <td>#studiolife #aislife #requires #passion #dedic...</td>\n",
       "    </tr>\n",
       "    <tr>\n",
       "      <th>1</th>\n",
       "      <td>31964</td>\n",
       "      <td>@user #white #supremacists want everyone to s...</td>\n",
       "    </tr>\n",
       "    <tr>\n",
       "      <th>2</th>\n",
       "      <td>31965</td>\n",
       "      <td>safe ways to heal your #acne!!    #altwaystohe...</td>\n",
       "    </tr>\n",
       "    <tr>\n",
       "      <th>3</th>\n",
       "      <td>31966</td>\n",
       "      <td>is the hp and the cursed child book up for res...</td>\n",
       "    </tr>\n",
       "    <tr>\n",
       "      <th>4</th>\n",
       "      <td>31967</td>\n",
       "      <td>3rd #bihday to my amazing, hilarious #nephew...</td>\n",
       "    </tr>\n",
       "  </tbody>\n",
       "</table>\n",
       "</div>"
      ],
      "text/plain": [
       "      id                                              tweet\n",
       "0  31963  #studiolife #aislife #requires #passion #dedic...\n",
       "1  31964   @user #white #supremacists want everyone to s...\n",
       "2  31965  safe ways to heal your #acne!!    #altwaystohe...\n",
       "3  31966  is the hp and the cursed child book up for res...\n",
       "4  31967    3rd #bihday to my amazing, hilarious #nephew..."
      ]
     },
     "execution_count": 99,
     "metadata": {},
     "output_type": "execute_result"
    }
   ],
   "source": [
    "test.head()"
   ]
  },
  {
   "cell_type": "code",
   "execution_count": 100,
   "metadata": {},
   "outputs": [
    {
     "name": "stdout",
     "output_type": "stream",
     "text": [
      "Dataset Shape:\n",
      "(31962, 3)\n",
      "\n",
      "\n",
      "Dataset Columns\t\t    Features:\n",
      "id        int64\n",
      "label     int64\n",
      "tweet    object\n",
      "dtype: object\n"
     ]
    }
   ],
   "source": [
    "iFunc.printDataInfo(train)"
   ]
  },
  {
   "cell_type": "code",
   "execution_count": 101,
   "metadata": {},
   "outputs": [
    {
     "name": "stdout",
     "output_type": "stream",
     "text": [
      "Dataset Shape:\n",
      "(17197, 2)\n",
      "\n",
      "\n",
      "Dataset Columns\t\t    Features:\n",
      "id        int64\n",
      "tweet    object\n",
      "dtype: object\n"
     ]
    }
   ],
   "source": [
    "iFunc.printDataInfo(test)"
   ]
  },
  {
   "cell_type": "markdown",
   "metadata": {},
   "source": [
    "# Checking Null Data"
   ]
  },
  {
   "cell_type": "code",
   "execution_count": 102,
   "metadata": {},
   "outputs": [
    {
     "data": {
      "text/html": [
       "<div>\n",
       "<style scoped>\n",
       "    .dataframe tbody tr th:only-of-type {\n",
       "        vertical-align: middle;\n",
       "    }\n",
       "\n",
       "    .dataframe tbody tr th {\n",
       "        vertical-align: top;\n",
       "    }\n",
       "\n",
       "    .dataframe thead th {\n",
       "        text-align: right;\n",
       "    }\n",
       "</style>\n",
       "<table border=\"1\" class=\"dataframe\">\n",
       "  <thead>\n",
       "    <tr style=\"text-align: right;\">\n",
       "      <th></th>\n",
       "      <th>Count</th>\n",
       "      <th>Percent</th>\n",
       "    </tr>\n",
       "  </thead>\n",
       "  <tbody>\n",
       "  </tbody>\n",
       "</table>\n",
       "</div>"
      ],
      "text/plain": [
       "Empty DataFrame\n",
       "Columns: [Count, Percent]\n",
       "Index: []"
      ]
     },
     "execution_count": 102,
     "metadata": {},
     "output_type": "execute_result"
    }
   ],
   "source": [
    "iFunc.checkNull(train)"
   ]
  },
  {
   "cell_type": "code",
   "execution_count": 103,
   "metadata": {},
   "outputs": [
    {
     "data": {
      "text/html": [
       "<div>\n",
       "<style scoped>\n",
       "    .dataframe tbody tr th:only-of-type {\n",
       "        vertical-align: middle;\n",
       "    }\n",
       "\n",
       "    .dataframe tbody tr th {\n",
       "        vertical-align: top;\n",
       "    }\n",
       "\n",
       "    .dataframe thead th {\n",
       "        text-align: right;\n",
       "    }\n",
       "</style>\n",
       "<table border=\"1\" class=\"dataframe\">\n",
       "  <thead>\n",
       "    <tr style=\"text-align: right;\">\n",
       "      <th></th>\n",
       "      <th>Count</th>\n",
       "      <th>Percent</th>\n",
       "    </tr>\n",
       "  </thead>\n",
       "  <tbody>\n",
       "  </tbody>\n",
       "</table>\n",
       "</div>"
      ],
      "text/plain": [
       "Empty DataFrame\n",
       "Columns: [Count, Percent]\n",
       "Index: []"
      ]
     },
     "execution_count": 103,
     "metadata": {},
     "output_type": "execute_result"
    }
   ],
   "source": [
    "iFunc.checkNull(test)"
   ]
  },
  {
   "cell_type": "markdown",
   "metadata": {},
   "source": [
    "# Cleaning Texts"
   ]
  },
  {
   "cell_type": "code",
   "execution_count": 104,
   "metadata": {},
   "outputs": [
    {
     "name": "stdout",
     "output_type": "stream",
     "text": [
      "   id  label                                              tweet\n",
      "0   1      0  when a father is dysfunctional and is so selfi...\n",
      "1   2      0  thanks for lyft credit i can t use cause they ...\n",
      "2   3      0                                bihday your majesty\n",
      "3   4      0      model i love u take with u all the time in ur\n",
      "4   5      0                  factsguide society now motivation\n",
      "      id                                              tweet\n",
      "0  31963  studiolife aislife requires passion dedication...\n",
      "1  31964  white supremacists want everyone to see the ne...\n",
      "2  31965  safe ways to heal your acne altwaystoheal heal...\n",
      "3  31966  is the hp and the cursed child book up for res...\n",
      "4  31967  3rd bihday to my amazing hilarious nephew eli ...\n"
     ]
    }
   ],
   "source": [
    "def remo(features):\n",
    "    return ' '.join(re.sub(\"(@[A-Za-z0-9]+)|([^0-9A-Za-z \\t])|(\\w+:\\/\\/\\S+)\",\" \",features[0]).split())\n",
    "\n",
    "train['tweet']=train[['tweet']].apply(remo, axis=1)\n",
    "test['tweet']=test[['tweet']].apply(remo, axis=1)\n",
    "    \n",
    "print(train.head())\n",
    "print(test.head())"
   ]
  },
  {
   "cell_type": "markdown",
   "metadata": {},
   "source": [
    "# Stopwords"
   ]
  },
  {
   "cell_type": "code",
   "execution_count": 105,
   "metadata": {},
   "outputs": [],
   "source": [
    "stopwords_nltk_en = set(stopwords.words('english'))\n",
    "# stopwords_punct = set(punctuation)\n",
    "# Combine the stopwords. Its a lot longer so I'm not printing it out...\n",
    "# stoplist_combined = set.union(stopwords_nltk_en, stopwords_punct)\n",
    "stoplist_combined = set.union(stopwords_nltk_en)"
   ]
  },
  {
   "cell_type": "markdown",
   "metadata": {},
   "source": [
    "# Train Test Splitting"
   ]
  },
  {
   "cell_type": "code",
   "execution_count": 106,
   "metadata": {},
   "outputs": [],
   "source": [
    "from sklearn.utils import shuffle\n",
    "train = shuffle(train)"
   ]
  },
  {
   "cell_type": "code",
   "execution_count": 107,
   "metadata": {},
   "outputs": [],
   "source": [
    "train, valid = train_test_split(train, test_size=0.2)"
   ]
  },
  {
   "cell_type": "code",
   "execution_count": 108,
   "metadata": {},
   "outputs": [],
   "source": [
    "train_tags = train['label']\n",
    "valid_tags = valid['label']"
   ]
  },
  {
   "cell_type": "markdown",
   "metadata": {},
   "source": [
    "# Modelling"
   ]
  },
  {
   "cell_type": "code",
   "execution_count": 109,
   "metadata": {},
   "outputs": [],
   "source": [
    "def calcAccuracy(op, pred):\n",
    "    return (op == pred).sum()/pred.shape[0]\n",
    "\n",
    "def calcError(op, pred):\n",
    "    return (op != pred).sum()/pred.shape[0]\n",
    "\n",
    "def printReport(y_train, trPredict, y_test, tePredict, mName):\n",
    "    precV, recV, f1V, supV = precision_recall_fscore_support(y_test, tePredict, average='binary')\n",
    "    accV = calcAccuracy(y_test, tePredict)\n",
    "    errV = calcError(y_test, tePredict)\n",
    "    precV = round(precV, 2)\n",
    "    recV = round(recV, 2)\n",
    "    f1V = round(f1V, 2)\n",
    "    accV = round(accV, 2)\n",
    "    errV = round(errV, 2)\n",
    "\n",
    "    precTr, recTr, f1Tr, supTr = precision_recall_fscore_support(y_train, trPredict, average='binary')\n",
    "    accTr = calcAccuracy(y_train, trPredict)\n",
    "    errTr = calcError(y_train, trPredict)\n",
    "    precTr = round(precTr, 2)\n",
    "    recTr = round(recTr, 2)\n",
    "    f1Tr = round(f1Tr, 2)\n",
    "    accTr = round(accTr, 2)\n",
    "    errTr = round(errTr, 2)\n",
    "\n",
    "    print(mName, (9 - len(mName)) * ' ', '\\t\\tValid\\t\\tTrain(K-Fold)')\n",
    "    print()\n",
    "    print(\"Accuracy \\t\\t\", accV, '\\t\\t', accTr)\n",
    "    print(\"Error    \\t\\t\", errV, '\\t\\t', errTr)\n",
    "    print(\"Recall   \\t\\t\", recV, '\\t\\t', recTr)\n",
    "    print(\"Precision\\t\\t\", precV,'\\t\\t', precTr)\n",
    "    print(\"F1 Score \\t\\t\", f1V, '\\t\\t', f1Tr)\n",
    "    print()\n",
    "    print(\"Classification Report of \", mName, \" on test : \")\n",
    "    cm = confusion_matrix(y_test, tePredict, labels=[0, 1])\n",
    "    cm1 = confusion_matrix(y_train, trPredict, labels=[0, 1])\n",
    "    plt.figure(figsize=(16,8))\n",
    "\n",
    "    plt.subplot(1,2, 1)\n",
    "    iFunc.plotConfusionMatrix(cm, classes=['Positive(0)', 'Negative(1)'],title='Valid Confusion matrix')\n",
    "    plt.subplot(1,2, 2)\n",
    "    iFunc.plotConfusionMatrix(cm1, classes=['Positive(0)', 'Negative(1)'],title='Train Confusion matrix')\n",
    "\n",
    "    plt.tight_layout()\n",
    "    plt.show()"
   ]
  },
  {
   "cell_type": "code",
   "execution_count": 122,
   "metadata": {},
   "outputs": [
    {
     "name": "stdout",
     "output_type": "stream",
     "text": [
      "Fitting 5 folds for each of 6 candidates, totalling 30 fits\n",
      "[CV] svc__C=0.001, tfidf__ngram_range=(1, 2) .........................\n",
      "[CV] svc__C=0.001, tfidf__ngram_range=(1, 2) .........................\n",
      "[CV] svc__C=0.001, tfidf__ngram_range=(1, 2) .........................\n",
      "[CV] svc__C=0.001, tfidf__ngram_range=(1, 2) .........................\n"
     ]
    },
    {
     "name": "stderr",
     "output_type": "stream",
     "text": [
      "/home/saurabh/anaconda3/lib/python3.6/site-packages/sklearn/metrics/classification.py:1135: UndefinedMetricWarning: F-score is ill-defined and being set to 0.0 due to no predicted samples.\n",
      "  'precision', 'predicted', average, warn_for)\n",
      "/home/saurabh/anaconda3/lib/python3.6/site-packages/sklearn/metrics/classification.py:1135: UndefinedMetricWarning: F-score is ill-defined and being set to 0.0 due to no predicted samples.\n",
      "  'precision', 'predicted', average, warn_for)\n",
      "/home/saurabh/anaconda3/lib/python3.6/site-packages/sklearn/metrics/classification.py:1135: UndefinedMetricWarning: F-score is ill-defined and being set to 0.0 due to no predicted samples.\n",
      "  'precision', 'predicted', average, warn_for)\n",
      "/home/saurabh/anaconda3/lib/python3.6/site-packages/sklearn/metrics/classification.py:1135: UndefinedMetricWarning: F-score is ill-defined and being set to 0.0 due to no predicted samples.\n",
      "  'precision', 'predicted', average, warn_for)\n",
      "/home/saurabh/anaconda3/lib/python3.6/site-packages/sklearn/metrics/classification.py:1135: UndefinedMetricWarning: F-score is ill-defined and being set to 0.0 due to no predicted samples.\n",
      "  'precision', 'predicted', average, warn_for)\n"
     ]
    },
    {
     "name": "stdout",
     "output_type": "stream",
     "text": [
      "[CV] .......... svc__C=0.001, tfidf__ngram_range=(1, 2), total=   1.8s\n",
      "[CV] svc__C=0.001, tfidf__ngram_range=(1, 2) .........................\n"
     ]
    },
    {
     "name": "stderr",
     "output_type": "stream",
     "text": [
      "/home/saurabh/anaconda3/lib/python3.6/site-packages/sklearn/metrics/classification.py:1135: UndefinedMetricWarning: F-score is ill-defined and being set to 0.0 due to no predicted samples.\n",
      "  'precision', 'predicted', average, warn_for)\n"
     ]
    },
    {
     "name": "stdout",
     "output_type": "stream",
     "text": [
      "[CV] .......... svc__C=0.001, tfidf__ngram_range=(1, 2), total=   2.7s\n",
      "[CV] svc__C=0.01, tfidf__ngram_range=(1, 2) ..........................\n"
     ]
    },
    {
     "name": "stderr",
     "output_type": "stream",
     "text": [
      "/home/saurabh/anaconda3/lib/python3.6/site-packages/sklearn/metrics/classification.py:1135: UndefinedMetricWarning: F-score is ill-defined and being set to 0.0 due to no predicted samples.\n",
      "  'precision', 'predicted', average, warn_for)\n"
     ]
    },
    {
     "name": "stdout",
     "output_type": "stream",
     "text": [
      "[CV] .......... svc__C=0.001, tfidf__ngram_range=(1, 2), total=   2.8s\n",
      "[CV] svc__C=0.01, tfidf__ngram_range=(1, 2) ..........................\n"
     ]
    },
    {
     "name": "stderr",
     "output_type": "stream",
     "text": [
      "/home/saurabh/anaconda3/lib/python3.6/site-packages/sklearn/metrics/classification.py:1135: UndefinedMetricWarning: F-score is ill-defined and being set to 0.0 due to no predicted samples.\n",
      "  'precision', 'predicted', average, warn_for)\n"
     ]
    },
    {
     "name": "stdout",
     "output_type": "stream",
     "text": [
      "[CV] .......... svc__C=0.001, tfidf__ngram_range=(1, 2), total=   2.8s\n",
      "[CV] svc__C=0.01, tfidf__ngram_range=(1, 2) ..........................\n"
     ]
    },
    {
     "name": "stderr",
     "output_type": "stream",
     "text": [
      "/home/saurabh/anaconda3/lib/python3.6/site-packages/sklearn/metrics/classification.py:1135: UndefinedMetricWarning: F-score is ill-defined and being set to 0.0 due to no predicted samples.\n",
      "  'precision', 'predicted', average, warn_for)\n",
      "/home/saurabh/anaconda3/lib/python3.6/site-packages/sklearn/metrics/classification.py:1135: UndefinedMetricWarning: F-score is ill-defined and being set to 0.0 due to no predicted samples.\n",
      "  'precision', 'predicted', average, warn_for)\n"
     ]
    },
    {
     "name": "stdout",
     "output_type": "stream",
     "text": [
      "[CV] .......... svc__C=0.001, tfidf__ngram_range=(1, 2), total=   2.5s\n",
      "[CV] svc__C=0.01, tfidf__ngram_range=(1, 2) ..........................\n",
      "[CV] ........... svc__C=0.01, tfidf__ngram_range=(1, 2), total=   2.4s\n",
      "[CV] svc__C=0.01, tfidf__ngram_range=(1, 2) ..........................\n",
      "[CV] ........... svc__C=0.01, tfidf__ngram_range=(1, 2), total=   2.7s\n",
      "[CV] svc__C=0.1, tfidf__ngram_range=(1, 2) ...........................\n",
      "[CV] ........... svc__C=0.01, tfidf__ngram_range=(1, 2), total=   2.3s\n",
      "[CV] svc__C=0.1, tfidf__ngram_range=(1, 2) ...........................\n",
      "[CV] ........... svc__C=0.01, tfidf__ngram_range=(1, 2), total=   2.7s\n",
      "[CV] svc__C=0.1, tfidf__ngram_range=(1, 2) ...........................\n",
      "[CV] ........... svc__C=0.01, tfidf__ngram_range=(1, 2), total=   2.3s\n",
      "[CV] svc__C=0.1, tfidf__ngram_range=(1, 2) ...........................\n",
      "[CV] ............ svc__C=0.1, tfidf__ngram_range=(1, 2), total=   2.5s\n",
      "[CV] svc__C=0.1, tfidf__ngram_range=(1, 2) ...........................\n",
      "[CV] ............ svc__C=0.1, tfidf__ngram_range=(1, 2), total=   2.7s\n",
      "[CV] svc__C=1, tfidf__ngram_range=(1, 2) .............................\n",
      "[CV] ............ svc__C=0.1, tfidf__ngram_range=(1, 2), total=   2.3s\n",
      "[CV] svc__C=1, tfidf__ngram_range=(1, 2) .............................\n",
      "[CV] ............ svc__C=0.1, tfidf__ngram_range=(1, 2), total=   2.3s\n",
      "[CV] svc__C=1, tfidf__ngram_range=(1, 2) .............................\n",
      "[CV] ............ svc__C=0.1, tfidf__ngram_range=(1, 2), total=   2.3s\n",
      "[CV] svc__C=1, tfidf__ngram_range=(1, 2) .............................\n",
      "[CV] .............. svc__C=1, tfidf__ngram_range=(1, 2), total=   2.7s\n",
      "[CV] svc__C=1, tfidf__ngram_range=(1, 2) .............................\n",
      "[CV] .............. svc__C=1, tfidf__ngram_range=(1, 2), total=   2.1s\n",
      "[CV] svc__C=10, tfidf__ngram_range=(1, 2) ............................\n",
      "[CV] .............. svc__C=1, tfidf__ngram_range=(1, 2), total=   2.6s\n",
      "[CV] svc__C=10, tfidf__ngram_range=(1, 2) ............................\n",
      "[CV] .............. svc__C=1, tfidf__ngram_range=(1, 2), total=   2.6s\n",
      "[CV] svc__C=10, tfidf__ngram_range=(1, 2) ............................\n",
      "[CV] .............. svc__C=1, tfidf__ngram_range=(1, 2), total=   2.8s\n",
      "[CV] svc__C=10, tfidf__ngram_range=(1, 2) ............................\n",
      "[CV] ............. svc__C=10, tfidf__ngram_range=(1, 2), total=   5.4s\n",
      "[CV] svc__C=10, tfidf__ngram_range=(1, 2) ............................\n",
      "[CV] ............. svc__C=10, tfidf__ngram_range=(1, 2), total=   5.6s\n",
      "[CV] svc__C=100, tfidf__ngram_range=(1, 2) ...........................\n",
      "[CV] ............. svc__C=10, tfidf__ngram_range=(1, 2), total=   5.2s\n",
      "[CV] svc__C=100, tfidf__ngram_range=(1, 2) ...........................\n",
      "[CV] ............. svc__C=10, tfidf__ngram_range=(1, 2), total=   5.1s\n",
      "[CV] svc__C=100, tfidf__ngram_range=(1, 2) ...........................\n",
      "[CV] ............. svc__C=10, tfidf__ngram_range=(1, 2), total=   6.4s\n",
      "[CV] svc__C=100, tfidf__ngram_range=(1, 2) ...........................\n",
      "[CV] ............ svc__C=100, tfidf__ngram_range=(1, 2), total=  12.1s\n",
      "[CV] svc__C=100, tfidf__ngram_range=(1, 2) ...........................\n",
      "[CV] ............ svc__C=100, tfidf__ngram_range=(1, 2), total=  13.3s\n",
      "[CV] ............ svc__C=100, tfidf__ngram_range=(1, 2), total=  13.9s\n",
      "[CV] ............ svc__C=100, tfidf__ngram_range=(1, 2), total=  10.8s\n",
      "[CV] ............ svc__C=100, tfidf__ngram_range=(1, 2), total=   6.2s\n"
     ]
    },
    {
     "name": "stderr",
     "output_type": "stream",
     "text": [
      "[Parallel(n_jobs=-1)]: Done  30 out of  30 | elapsed:   45.8s finished\n"
     ]
    },
    {
     "name": "stdout",
     "output_type": "stream",
     "text": [
      "Pipeline(memory=None,\n",
      "     steps=[('tfidf', TfidfVectorizer(analyzer='word', binary=False, decode_error='strict',\n",
      "        dtype=<class 'numpy.int64'>, encoding='utf-8', input='content',\n",
      "        lowercase=True, max_df=1.0, max_features=None, min_df=1,\n",
      "        ngram_range=(1, 2), norm='l2', preprocessor=None, smooth_idf=True,\n",
      " ...ax_iter=1000,\n",
      "     multi_class='ovr', penalty='l2', random_state=None, tol=0.0001,\n",
      "     verbose=0))])\n",
      "0.723361147843004\n"
     ]
    }
   ],
   "source": [
    "params = {\"tfidf__ngram_range\": [(1, 2)], \"svc__C\": [0.001,.01, .1, 1, 10, 100]}\n",
    "\n",
    "clf = Pipeline([(\"tfidf\", TfidfVectorizer(sublinear_tf=True, stop_words=stoplist_combined)), (\"svc\", LinearSVC())])\n",
    "\n",
    "gs = GridSearchCV(clf, params, cv=5, verbose=2, n_jobs=-1, scoring='f1')\n",
    "\n",
    "gs.fit(train['tweet'], train_tags)\n",
    "print(gs.best_estimator_)\n",
    "print(gs.best_score_)"
   ]
  },
  {
   "cell_type": "code",
   "execution_count": 123,
   "metadata": {},
   "outputs": [],
   "source": [
    "vPredict = gs.predict(valid['tweet'])\n",
    "trPredict = gs.predict(train['tweet'])"
   ]
  },
  {
   "cell_type": "code",
   "execution_count": 124,
   "metadata": {},
   "outputs": [
    {
     "name": "stdout",
     "output_type": "stream",
     "text": [
      "LinearSVC  \t\tValid\t\tTrain(K-Fold)\n",
      "\n",
      "Accuracy \t\t 0.97 \t\t 1.0\n",
      "Error    \t\t 0.03 \t\t 0.0\n",
      "Recall   \t\t 0.67 \t\t 1.0\n",
      "Precision\t\t 0.82 \t\t 1.0\n",
      "F1 Score \t\t 0.74 \t\t 1.0\n",
      "\n",
      "Classification Report of  LinearSVC  on test : \n"
     ]
    },
    {
     "data": {
      "image/png": "[encoded data removed]",
      "text/plain": [
       "<Figure size 1152x576 with 4 Axes>"
      ]
     },
     "metadata": {},
     "output_type": "display_data"
    }
   ],
   "source": [
    "printReport(train_tags, trPredict, valid_tags, vPredict, 'LinearSVC')"
   ]
  },
  {
   "cell_type": "code",
   "execution_count": 125,
   "metadata": {},
   "outputs": [],
   "source": [
    "tePred = gs.predict(test['tweet'])"
   ]
  },
  {
   "cell_type": "code",
   "execution_count": 126,
   "metadata": {},
   "outputs": [],
   "source": [
    "prediction = pd.Series(tePred)\n",
    "prediction.index = test['id'].index\n",
    "df = pd.DataFrame({'id': test['id'], 'label': prediction}, index=test.index)\n",
    "\n",
    "df.head()\n",
    "\n",
    "df.to_csv('bestValidationSubmission.csv', index=False)"
   ]
  }
 ],
 "metadata": {
  "kernelspec": {
   "display_name": "Python 3",
   "language": "python",
   "name": "python3"
  },
  "language_info": {
   "codemirror_mode": {
    "name": "ipython",
    "version": 3
   },
   "file_extension": ".py",
   "mimetype": "text/x-python",
   "name": "python",
   "nbconvert_exporter": "python",
   "pygments_lexer": "ipython3",
   "version": "3.6.5"
  }
 },
 "nbformat": 4,
 "nbformat_minor": 2
}
