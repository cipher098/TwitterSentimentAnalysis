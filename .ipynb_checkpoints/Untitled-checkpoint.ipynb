{
 "cells": [
  {
   "cell_type": "code",
   "execution_count": 139,
   "metadata": {},
   "outputs": [],
   "source": [
    "import pandas as pd\n",
    "import numpy as np\n",
    "import importantFunctions as iFunc\n",
    "from io import StringIO\n",
    "from string import punctuation\n",
    "from sklearn.feature_extraction.text import CountVectorizer, TfidfTransformer\n",
    "from sklearn.model_selection import train_test_split \n",
    "from sklearn.naive_bayes import MultinomialNB\n",
    "from sklearn.linear_model import SGDClassifier\n",
    "\n",
    "#Visualizations library\n",
    "import seaborn as sns \n",
    "import matplotlib.pyplot as plt\n",
    "import graphviz \n",
    "\n",
    "# Model selection and evaluation\n",
    "from sklearn.model_selection import KFold, cross_val_score, train_test_split, learning_curve\n",
    "from sklearn.metrics import mean_squared_error\n",
    "from sklearn import metrics\n",
    "from sklearn.model_selection import GridSearchCV \n",
    "from sklearn.metrics import f1_score\n",
    "from sklearn.metrics import accuracy_score\n",
    "from sklearn.metrics import roc_auc_score\n",
    "from sklearn.metrics import classification_report\n",
    "from sklearn.metrics import confusion_matrix\n",
    "from sklearn.metrics import log_loss\n",
    "from sklearn.metrics import precision_score, recall_score\n",
    "from sklearn.metrics import precision_recall_fscore_support\n",
    "from sklearn.model_selection import GridSearchCV\n",
    "\n",
    "from sklearn.feature_extraction.text import TfidfTransformer, TfidfVectorizer\n",
    "from sklearn.pipeline import Pipeline"
   ]
  },
  {
   "cell_type": "code",
   "execution_count": 140,
   "metadata": {},
   "outputs": [
    {
     "name": "stdout",
     "output_type": "stream",
     "text": [
      "[nltk_data] Downloading package brown to /home/saurabh/nltk_data...\n",
      "[nltk_data]   Package brown is already up-to-date!\n",
      "[nltk_data] Downloading package punkt to /home/saurabh/nltk_data...\n",
      "[nltk_data]   Package punkt is already up-to-date!\n",
      "[nltk_data] Downloading package averaged_perceptron_tagger to\n",
      "[nltk_data]     /home/saurabh/nltk_data...\n",
      "[nltk_data]   Package averaged_perceptron_tagger is already up-to-\n",
      "[nltk_data]       date!\n",
      "[nltk_data] Downloading package wordnet to /home/saurabh/nltk_data...\n",
      "[nltk_data]   Package wordnet is already up-to-date!\n",
      "[nltk_data] Downloading package stopwords to\n",
      "[nltk_data]     /home/saurabh/nltk_data...\n",
      "[nltk_data]   Package stopwords is already up-to-date!\n"
     ]
    },
    {
     "data": {
      "text/plain": [
       "True"
      ]
     },
     "execution_count": 140,
     "metadata": {},
     "output_type": "execute_result"
    }
   ],
   "source": [
    "import nltk\n",
    "nltk.download('brown')\n",
    "nltk.download('punkt')\n",
    "nltk.download('averaged_perceptron_tagger')\n",
    "nltk.download('wordnet')\n",
    "nltk.download('stopwords')"
   ]
  },
  {
   "cell_type": "code",
   "execution_count": 141,
   "metadata": {},
   "outputs": [],
   "source": [
    "from nltk.corpus import brown\n",
    "from nltk.corpus import stopwords\n",
    "from nltk import sent_tokenize, word_tokenize\n",
    "from nltk import pos_tag\n",
    "from nltk.stem import WordNetLemmatizer"
   ]
  },
  {
   "cell_type": "code",
   "execution_count": 142,
   "metadata": {},
   "outputs": [],
   "source": [
    "train = pd.read_csv('train_E6oV3lV.csv')\n",
    "test = pd.read_csv('test_tweets_anuFYb8.csv')"
   ]
  },
  {
   "cell_type": "code",
   "execution_count": 143,
   "metadata": {},
   "outputs": [
    {
     "data": {
      "text/html": [
       "<div>\n",
       "<style scoped>\n",
       "    .dataframe tbody tr th:only-of-type {\n",
       "        vertical-align: middle;\n",
       "    }\n",
       "\n",
       "    .dataframe tbody tr th {\n",
       "        vertical-align: top;\n",
       "    }\n",
       "\n",
       "    .dataframe thead th {\n",
       "        text-align: right;\n",
       "    }\n",
       "</style>\n",
       "<table border=\"1\" class=\"dataframe\">\n",
       "  <thead>\n",
       "    <tr style=\"text-align: right;\">\n",
       "      <th></th>\n",
       "      <th>id</th>\n",
       "      <th>label</th>\n",
       "      <th>tweet</th>\n",
       "    </tr>\n",
       "  </thead>\n",
       "  <tbody>\n",
       "    <tr>\n",
       "      <th>0</th>\n",
       "      <td>1</td>\n",
       "      <td>0</td>\n",
       "      <td>@user when a father is dysfunctional and is s...</td>\n",
       "    </tr>\n",
       "    <tr>\n",
       "      <th>1</th>\n",
       "      <td>2</td>\n",
       "      <td>0</td>\n",
       "      <td>@user @user thanks for #lyft credit i can't us...</td>\n",
       "    </tr>\n",
       "    <tr>\n",
       "      <th>2</th>\n",
       "      <td>3</td>\n",
       "      <td>0</td>\n",
       "      <td>bihday your majesty</td>\n",
       "    </tr>\n",
       "    <tr>\n",
       "      <th>3</th>\n",
       "      <td>4</td>\n",
       "      <td>0</td>\n",
       "      <td>#model   i love u take with u all the time in ...</td>\n",
       "    </tr>\n",
       "    <tr>\n",
       "      <th>4</th>\n",
       "      <td>5</td>\n",
       "      <td>0</td>\n",
       "      <td>factsguide: society now    #motivation</td>\n",
       "    </tr>\n",
       "  </tbody>\n",
       "</table>\n",
       "</div>"
      ],
      "text/plain": [
       "   id  label                                              tweet\n",
       "0   1      0   @user when a father is dysfunctional and is s...\n",
       "1   2      0  @user @user thanks for #lyft credit i can't us...\n",
       "2   3      0                                bihday your majesty\n",
       "3   4      0  #model   i love u take with u all the time in ...\n",
       "4   5      0             factsguide: society now    #motivation"
      ]
     },
     "execution_count": 143,
     "metadata": {},
     "output_type": "execute_result"
    }
   ],
   "source": [
    "train.head()"
   ]
  },
  {
   "cell_type": "code",
   "execution_count": 144,
   "metadata": {},
   "outputs": [
    {
     "data": {
      "text/html": [
       "<div>\n",
       "<style scoped>\n",
       "    .dataframe tbody tr th:only-of-type {\n",
       "        vertical-align: middle;\n",
       "    }\n",
       "\n",
       "    .dataframe tbody tr th {\n",
       "        vertical-align: top;\n",
       "    }\n",
       "\n",
       "    .dataframe thead th {\n",
       "        text-align: right;\n",
       "    }\n",
       "</style>\n",
       "<table border=\"1\" class=\"dataframe\">\n",
       "  <thead>\n",
       "    <tr style=\"text-align: right;\">\n",
       "      <th></th>\n",
       "      <th>id</th>\n",
       "      <th>tweet</th>\n",
       "    </tr>\n",
       "  </thead>\n",
       "  <tbody>\n",
       "    <tr>\n",
       "      <th>0</th>\n",
       "      <td>31963</td>\n",
       "      <td>#studiolife #aislife #requires #passion #dedic...</td>\n",
       "    </tr>\n",
       "    <tr>\n",
       "      <th>1</th>\n",
       "      <td>31964</td>\n",
       "      <td>@user #white #supremacists want everyone to s...</td>\n",
       "    </tr>\n",
       "    <tr>\n",
       "      <th>2</th>\n",
       "      <td>31965</td>\n",
       "      <td>safe ways to heal your #acne!!    #altwaystohe...</td>\n",
       "    </tr>\n",
       "    <tr>\n",
       "      <th>3</th>\n",
       "      <td>31966</td>\n",
       "      <td>is the hp and the cursed child book up for res...</td>\n",
       "    </tr>\n",
       "    <tr>\n",
       "      <th>4</th>\n",
       "      <td>31967</td>\n",
       "      <td>3rd #bihday to my amazing, hilarious #nephew...</td>\n",
       "    </tr>\n",
       "  </tbody>\n",
       "</table>\n",
       "</div>"
      ],
      "text/plain": [
       "      id                                              tweet\n",
       "0  31963  #studiolife #aislife #requires #passion #dedic...\n",
       "1  31964   @user #white #supremacists want everyone to s...\n",
       "2  31965  safe ways to heal your #acne!!    #altwaystohe...\n",
       "3  31966  is the hp and the cursed child book up for res...\n",
       "4  31967    3rd #bihday to my amazing, hilarious #nephew..."
      ]
     },
     "execution_count": 144,
     "metadata": {},
     "output_type": "execute_result"
    }
   ],
   "source": [
    "test.head()"
   ]
  },
  {
   "cell_type": "code",
   "execution_count": 145,
   "metadata": {},
   "outputs": [
    {
     "name": "stdout",
     "output_type": "stream",
     "text": [
      "Dataset Shape:\n",
      "(31962, 3)\n",
      "\n",
      "\n",
      "Dataset Columns\t\t    Features:\n",
      "id        int64\n",
      "label     int64\n",
      "tweet    object\n",
      "dtype: object\n"
     ]
    }
   ],
   "source": [
    "iFunc.printDataInfo(train)"
   ]
  },
  {
   "cell_type": "code",
   "execution_count": 146,
   "metadata": {},
   "outputs": [
    {
     "name": "stdout",
     "output_type": "stream",
     "text": [
      "Dataset Shape:\n",
      "(17197, 2)\n",
      "\n",
      "\n",
      "Dataset Columns\t\t    Features:\n",
      "id        int64\n",
      "tweet    object\n",
      "dtype: object\n"
     ]
    }
   ],
   "source": [
    "iFunc.printDataInfo(test)"
   ]
  },
  {
   "cell_type": "code",
   "execution_count": 147,
   "metadata": {},
   "outputs": [
    {
     "data": {
      "text/html": [
       "<div>\n",
       "<style scoped>\n",
       "    .dataframe tbody tr th:only-of-type {\n",
       "        vertical-align: middle;\n",
       "    }\n",
       "\n",
       "    .dataframe tbody tr th {\n",
       "        vertical-align: top;\n",
       "    }\n",
       "\n",
       "    .dataframe thead th {\n",
       "        text-align: right;\n",
       "    }\n",
       "</style>\n",
       "<table border=\"1\" class=\"dataframe\">\n",
       "  <thead>\n",
       "    <tr style=\"text-align: right;\">\n",
       "      <th></th>\n",
       "      <th>Count</th>\n",
       "      <th>Percent</th>\n",
       "    </tr>\n",
       "  </thead>\n",
       "  <tbody>\n",
       "  </tbody>\n",
       "</table>\n",
       "</div>"
      ],
      "text/plain": [
       "Empty DataFrame\n",
       "Columns: [Count, Percent]\n",
       "Index: []"
      ]
     },
     "execution_count": 147,
     "metadata": {},
     "output_type": "execute_result"
    }
   ],
   "source": [
    "iFunc.checkNull(train)"
   ]
  },
  {
   "cell_type": "code",
   "execution_count": 148,
   "metadata": {},
   "outputs": [
    {
     "data": {
      "text/html": [
       "<div>\n",
       "<style scoped>\n",
       "    .dataframe tbody tr th:only-of-type {\n",
       "        vertical-align: middle;\n",
       "    }\n",
       "\n",
       "    .dataframe tbody tr th {\n",
       "        vertical-align: top;\n",
       "    }\n",
       "\n",
       "    .dataframe thead th {\n",
       "        text-align: right;\n",
       "    }\n",
       "</style>\n",
       "<table border=\"1\" class=\"dataframe\">\n",
       "  <thead>\n",
       "    <tr style=\"text-align: right;\">\n",
       "      <th></th>\n",
       "      <th>Count</th>\n",
       "      <th>Percent</th>\n",
       "    </tr>\n",
       "  </thead>\n",
       "  <tbody>\n",
       "  </tbody>\n",
       "</table>\n",
       "</div>"
      ],
      "text/plain": [
       "Empty DataFrame\n",
       "Columns: [Count, Percent]\n",
       "Index: []"
      ]
     },
     "execution_count": 148,
     "metadata": {},
     "output_type": "execute_result"
    }
   ],
   "source": [
    "iFunc.checkNull(test)"
   ]
  },
  {
   "cell_type": "code",
   "execution_count": 149,
   "metadata": {},
   "outputs": [
    {
     "name": "stdout",
     "output_type": "stream",
     "text": [
      "Requirement already satisfied: textblob in /home/saurabh/anaconda3/lib/python3.6/site-packages (0.15.1)\r\n",
      "Requirement already satisfied: nltk>=3.1 in /home/saurabh/anaconda3/lib/python3.6/site-packages (from textblob) (3.3)\r\n",
      "Requirement already satisfied: six in /home/saurabh/anaconda3/lib/python3.6/site-packages (from nltk>=3.1->textblob) (1.11.0)\r\n"
     ]
    }
   ],
   "source": [
    "!pip install textblob"
   ]
  },
  {
   "cell_type": "code",
   "execution_count": 150,
   "metadata": {},
   "outputs": [],
   "source": [
    "# from textblob import TextBlob\n",
    "# train['tweet'].apply(lambda x: str(TextBlob(x).correct()))\n",
    "# test['tweet'].apply(lambda x: str(TextBlob(x).correct()))"
   ]
  },
  {
   "cell_type": "code",
   "execution_count": 151,
   "metadata": {},
   "outputs": [
    {
     "name": "stdout",
     "output_type": "stream",
     "text": [
      "   id  label                                              tweet\n",
      "0   1      0  when a father is dysfunctional and is so selfi...\n",
      "1   2      0  thanks for lyft credit i can t use cause they ...\n",
      "2   3      0                                bihday your majesty\n",
      "3   4      0      model i love u take with u all the time in ur\n",
      "4   5      0                  factsguide society now motivation\n",
      "      id                                              tweet\n",
      "0  31963  studiolife aislife requires passion dedication...\n",
      "1  31964  white supremacists want everyone to see the ne...\n",
      "2  31965  safe ways to heal your acne altwaystoheal heal...\n",
      "3  31966  is the hp and the cursed child book up for res...\n",
      "4  31967  3rd bihday to my amazing hilarious nephew eli ...\n"
     ]
    }
   ],
   "source": [
    "import re\n",
    "def remo(features):\n",
    "    return ' '.join(re.sub(\"(@[A-Za-z0-9]+)|([^0-9A-Za-z \\t])|(\\w+:\\/\\/\\S+)\",\" \",features[0]).split())\n",
    "\n",
    "train['tweet']=train[['tweet']].apply(remo, axis=1)\n",
    "test['tweet']=test[['tweet']].apply(remo, axis=1)\n",
    "    \n",
    "print(train.head())\n",
    "print(test.head())"
   ]
  },
  {
   "cell_type": "code",
   "execution_count": 152,
   "metadata": {},
   "outputs": [],
   "source": [
    "# stopwords_json = {\"en\":[\"a\",\"a's\",\"able\",\"about\",\"above\",\"according\",\"accordingly\",\"across\",\"actually\",\"after\",\"afterwards\",\"again\",\"against\",\"ain't\",\"all\",\"allow\",\"allows\",\"almost\",\"alone\",\"along\",\"already\",\"also\",\"although\",\"always\",\"am\",\"among\",\"amongst\",\"an\",\"and\",\"another\",\"any\",\"anybody\",\"anyhow\",\"anyone\",\"anything\",\"anyway\",\"anyways\",\"anywhere\",\"apart\",\"appear\",\"appreciate\",\"appropriate\",\"are\",\"aren't\",\"around\",\"as\",\"aside\",\"ask\",\"asking\",\"associated\",\"at\",\"available\",\"away\",\"awfully\",\"b\",\"be\",\"became\",\"because\",\"become\",\"becomes\",\"becoming\",\"been\",\"before\",\"beforehand\",\"behind\",\"being\",\"believe\",\"below\",\"beside\",\"besides\",\"best\",\"better\",\"between\",\"beyond\",\"both\",\"brief\",\"but\",\"by\",\"c\",\"c'mon\",\"c's\",\"came\",\"can\",\"can't\",\"cannot\",\"cant\",\"cause\",\"causes\",\"certain\",\"certainly\",\"changes\",\"clearly\",\"co\",\"com\",\"come\",\"comes\",\"concerning\",\"consequently\",\"consider\",\"considering\",\"contain\",\"containing\",\"contains\",\"corresponding\",\"could\",\"couldn't\",\"course\",\"currently\",\"d\",\"definitely\",\"described\",\"despite\",\"did\",\"didn't\",\"different\",\"do\",\"does\",\"doesn't\",\"doing\",\"don't\",\"done\",\"down\",\"downwards\",\"during\",\"e\",\"each\",\"edu\",\"eg\",\"eight\",\"either\",\"else\",\"elsewhere\",\"enough\",\"entirely\",\"especially\",\"et\",\"etc\",\"even\",\"ever\",\"every\",\"everybody\",\"everyone\",\"everything\",\"everywhere\",\"ex\",\"exactly\",\"example\",\"except\",\"f\",\"far\",\"few\",\"fifth\",\"first\",\"five\",\"followed\",\"following\",\"follows\",\"for\",\"former\",\"formerly\",\"forth\",\"four\",\"from\",\"further\",\"furthermore\",\"g\",\"get\",\"gets\",\"getting\",\"given\",\"gives\",\"go\",\"goes\",\"going\",\"gone\",\"got\",\"gotten\",\"greetings\",\"h\",\"had\",\"hadn't\",\"happens\",\"hardly\",\"has\",\"hasn't\",\"have\",\"haven't\",\"having\",\"he\",\"he's\",\"hello\",\"help\",\"hence\",\"her\",\"here\",\"here's\",\"hereafter\",\"hereby\",\"herein\",\"hereupon\",\"hers\",\"herself\",\"hi\",\"him\",\"himself\",\"his\",\"hither\",\"hopefully\",\"how\",\"howbeit\",\"however\",\"i\",\"i'd\",\"i'll\",\"i'm\",\"i've\",\"ie\",\"if\",\"ignored\",\"immediate\",\"in\",\"inasmuch\",\"inc\",\"indeed\",\"indicate\",\"indicated\",\"indicates\",\"inner\",\"insofar\",\"instead\",\"into\",\"inward\",\"is\",\"isn't\",\"it\",\"it'd\",\"it'll\",\"it's\",\"its\",\"itself\",\"j\",\"just\",\"k\",\"keep\",\"keeps\",\"kept\",\"know\",\"known\",\"knows\",\"l\",\"last\",\"lately\",\"later\",\"latter\",\"latterly\",\"least\",\"less\",\"lest\",\"let\",\"let's\",\"like\",\"liked\",\"likely\",\"little\",\"look\",\"looking\",\"looks\",\"ltd\",\"m\",\"mainly\",\"many\",\"may\",\"maybe\",\"me\",\"mean\",\"meanwhile\",\"merely\",\"might\",\"more\",\"moreover\",\"most\",\"mostly\",\"much\",\"must\",\"my\",\"myself\",\"n\",\"name\",\"namely\",\"nd\",\"near\",\"nearly\",\"necessary\",\"need\",\"needs\",\"neither\",\"never\",\"nevertheless\",\"new\",\"next\",\"nine\",\"no\",\"nobody\",\"non\",\"none\",\"noone\",\"nor\",\"normally\",\"not\",\"nothing\",\"novel\",\"now\",\"nowhere\",\"o\",\"obviously\",\"of\",\"off\",\"often\",\"oh\",\"ok\",\"okay\",\"old\",\"on\",\"once\",\"one\",\"ones\",\"only\",\"onto\",\"or\",\"other\",\"others\",\"otherwise\",\"ought\",\"our\",\"ours\",\"ourselves\",\"out\",\"outside\",\"over\",\"overall\",\"own\",\"p\",\"particular\",\"particularly\",\"per\",\"perhaps\",\"placed\",\"please\",\"plus\",\"possible\",\"presumably\",\"probably\",\"provides\",\"q\",\"que\",\"quite\",\"qv\",\"r\",\"rather\",\"rd\",\"re\",\"really\",\"reasonably\",\"regarding\",\"regardless\",\"regards\",\"relatively\",\"respectively\",\"right\",\"s\",\"said\",\"same\",\"saw\",\"say\",\"saying\",\"says\",\"second\",\"secondly\",\"see\",\"seeing\",\"seem\",\"seemed\",\"seeming\",\"seems\",\"seen\",\"self\",\"selves\",\"sensible\",\"sent\",\"serious\",\"seriously\",\"seven\",\"several\",\"shall\",\"she\",\"should\",\"shouldn't\",\"since\",\"six\",\"so\",\"some\",\"somebody\",\"somehow\",\"someone\",\"something\",\"sometime\",\"sometimes\",\"somewhat\",\"somewhere\",\"soon\",\"sorry\",\"specified\",\"specify\",\"specifying\",\"still\",\"sub\",\"such\",\"sup\",\"sure\",\"t\",\"t's\",\"take\",\"taken\",\"tell\",\"tends\",\"th\",\"than\",\"thank\",\"thanks\",\"thanx\",\"that\",\"that's\",\"thats\",\"the\",\"their\",\"theirs\",\"them\",\"themselves\",\"then\",\"thence\",\"there\",\"there's\",\"thereafter\",\"thereby\",\"therefore\",\"therein\",\"theres\",\"thereupon\",\"these\",\"they\",\"they'd\",\"they'll\",\"they're\",\"they've\",\"think\",\"third\",\"this\",\"thorough\",\"thoroughly\",\"those\",\"though\",\"three\",\"through\",\"throughout\",\"thru\",\"thus\",\"to\",\"together\",\"too\",\"took\",\"toward\",\"towards\",\"tried\",\"tries\",\"truly\",\"try\",\"trying\",\"twice\",\"two\",\"u\",\"un\",\"under\",\"unfortunately\",\"unless\",\"unlikely\",\"until\",\"unto\",\"up\",\"upon\",\"us\",\"use\",\"used\",\"useful\",\"uses\",\"using\",\"usually\",\"uucp\",\"v\",\"value\",\"various\",\"very\",\"via\",\"viz\",\"vs\",\"w\",\"want\",\"wants\",\"was\",\"wasn't\",\"way\",\"we\",\"we'd\",\"we'll\",\"we're\",\"we've\",\"welcome\",\"well\",\"went\",\"were\",\"weren't\",\"what\",\"what's\",\"whatever\",\"when\",\"whence\",\"whenever\",\"where\",\"where's\",\"whereafter\",\"whereas\",\"whereby\",\"wherein\",\"whereupon\",\"wherever\",\"whether\",\"which\",\"while\",\"whither\",\"who\",\"who's\",\"whoever\",\"whole\",\"whom\",\"whose\",\"why\",\"will\",\"willing\",\"wish\",\"with\",\"within\",\"without\",\"won't\",\"wonder\",\"would\",\"wouldn't\",\"x\",\"y\",\"yes\",\"yet\",\"you\",\"you'd\",\"you'll\",\"you're\",\"you've\",\"your\",\"yours\",\"yourself\",\"yourselves\",\"z\",\"zero\"]}\n",
    "# stopwords_json_en = set(stopwords_json['en'])\n",
    "stopwords_nltk_en = set(stopwords.words('english'))\n",
    "stopwords_punct = set(punctuation)\n",
    "# Combine the stopwords. Its a lot longer so I'm not printing it out...\n",
    "stoplist_combined = set.union(stopwords_nltk_en, stopwords_punct)"
   ]
  },
  {
   "cell_type": "code",
   "execution_count": 153,
   "metadata": {},
   "outputs": [],
   "source": [
    "wnl = WordNetLemmatizer()\n",
    "\n",
    "def penn2morphy(penntag):\n",
    "    \"\"\" Converts Penn Treebank tags to WordNet. \"\"\"\n",
    "    morphy_tag = {'NN':'n', 'JJ':'a',\n",
    "                  'VB':'v', 'RB':'r'}\n",
    "    try:\n",
    "        return morphy_tag[penntag[:2]]\n",
    "    except:\n",
    "        return 'n' \n",
    "    \n",
    "def lemmatize_sent(text): \n",
    "    # Text input is string, returns lowercased strings.\n",
    "    return [wnl.lemmatize(word.lower(), pos=penn2morphy(tag)) \n",
    "            for word, tag in pos_tag(word_tokenize(text))]\n",
    "\n",
    "def preprocess_text(text):\n",
    "    # Input: str, i.e. document/sentence\n",
    "    # Output: list(str) , i.e. list of lemmas\n",
    "    return [word for word in lemmatize_sent(text) \n",
    "            if word not in stoplist_combined\n",
    "            and not word.isdigit()]"
   ]
  },
  {
   "cell_type": "code",
   "execution_count": 154,
   "metadata": {},
   "outputs": [],
   "source": [
    "train, valid = train_test_split(train, test_size=0.2)"
   ]
  },
  {
   "cell_type": "code",
   "execution_count": null,
   "metadata": {},
   "outputs": [],
   "source": []
  },
  {
   "cell_type": "code",
   "execution_count": 155,
   "metadata": {},
   "outputs": [],
   "source": [
    "# count_vect = CountVectorizer(analyzer=preprocess_text)"
   ]
  },
  {
   "cell_type": "code",
   "execution_count": 156,
   "metadata": {},
   "outputs": [],
   "source": [
    "# train_set = count_vect.fit_transform(train['tweet'])\n",
    "train_tags = train['label']\n",
    "\n",
    "# # When vectorizing the validation data, we use `CountVectorizer.transform()`.\n",
    "# valid_set = count_vect.transform(valid['tweet'])\n",
    "valid_tags = valid['label']"
   ]
  },
  {
   "cell_type": "code",
   "execution_count": 157,
   "metadata": {},
   "outputs": [],
   "source": [
    "# test_set = count_vect.transform(test['tweet'])"
   ]
  },
  {
   "cell_type": "code",
   "execution_count": 158,
   "metadata": {},
   "outputs": [],
   "source": [
    "def calcAccuracy(op, pred):\n",
    "    return (op == pred).sum()/pred.shape[0]\n",
    "\n",
    "def calcError(op, pred):\n",
    "    return (op != pred).sum()/pred.shape[0]\n",
    "\n",
    "def printReport(y_train, trPredict, y_test, tePredict, mName):\n",
    "    precV, recV, f1V, supV = precision_recall_fscore_support(y_test, tePredict, average='binary')\n",
    "    accV = calcAccuracy(y_test, tePredict)\n",
    "    errV = calcError(y_test, tePredict)\n",
    "    precV = round(precV, 2)\n",
    "    recV = round(recV, 2)\n",
    "    f1V = round(f1V, 2)\n",
    "    accV = round(accV, 2)\n",
    "    errV = round(errV, 2)\n",
    "\n",
    "    precTr, recTr, f1Tr, supTr = precision_recall_fscore_support(y_train, trPredict, average='binary')\n",
    "    accTr = calcAccuracy(y_train, trPredict)\n",
    "    errTr = calcError(y_train, trPredict)\n",
    "    precTr = round(precTr, 2)\n",
    "    recTr = round(recTr, 2)\n",
    "    f1Tr = round(f1Tr, 2)\n",
    "    accTr = round(accTr, 2)\n",
    "    errTr = round(errTr, 2)\n",
    "\n",
    "    print(mName, (9 - len(mName)) * ' ', '\\t\\tValid\\t\\tTrain(K-Fold)')\n",
    "    print()\n",
    "    print(\"Accuracy \\t\\t\", accV, '\\t\\t', accTr)\n",
    "    print(\"Error    \\t\\t\", errV, '\\t\\t', errTr)\n",
    "    print(\"Recall   \\t\\t\", recV, '\\t\\t', recTr)\n",
    "    print(\"Precision\\t\\t\", precV,'\\t\\t', precTr)\n",
    "    print(\"F1 Score \\t\\t\", f1V, '\\t\\t', f1Tr)\n",
    "    print()\n",
    "    print(\"Classification Report of \", mName, \" on test : \")\n",
    "    cm = confusion_matrix(y_test, tePredict, labels=[0, 1])\n",
    "    cm1 = confusion_matrix(y_train, trPredict, labels=[0, 1])\n",
    "    plt.figure(figsize=(16,8))\n",
    "\n",
    "    plt.subplot(1,2, 1)\n",
    "    iFunc.plotConfusionMatrix(cm, classes=['Positive(0)', 'Negative(1)'],title='Valid Confusion matrix')\n",
    "    plt.subplot(1,2, 2)\n",
    "    iFunc.plotConfusionMatrix(cm1, classes=['Positive(0)', 'Negative(1)'],title='Train Confusion matrix')\n",
    "\n",
    "    plt.tight_layout()\n",
    "    plt.show()"
   ]
  },
  {
   "cell_type": "code",
   "execution_count": 159,
   "metadata": {},
   "outputs": [],
   "source": [
    "# param_test = {'C': [1e-5, 1e-2, 0.1, 1, 100], 'max_iter': [10, 100, 300, 500, 100, 1500]}"
   ]
  },
  {
   "cell_type": "code",
   "execution_count": 160,
   "metadata": {},
   "outputs": [],
   "source": [
    "# from sklearn.svm import SVC, NuSVC, LinearSVC\n",
    "\n",
    "# svmClf = LinearSVC()\n",
    "# gsearch = GridSearchCV(estimator= LinearSVC(loss='hinge', penalty='l2'),\n",
    "#                       param_grid=param_test, scoring='f1', n_jobs=4, iid=False, cv=5)\n",
    "# gsearch.fit(train_set, train_tags)\n",
    "# vPredict = gsearch.predict(valid_set)\n",
    "# trPredict = gsearch.predict(train_set)"
   ]
  },
  {
   "cell_type": "code",
   "execution_count": 161,
   "metadata": {},
   "outputs": [
    {
     "name": "stdout",
     "output_type": "stream",
     "text": [
      "Fitting 10 folds for each of 6 candidates, totalling 60 fits\n",
      "[CV] svc__C=0.001, tfidf__ngram_range=(1, 2) .........................\n",
      "[CV] svc__C=0.001, tfidf__ngram_range=(1, 2) .........................\n",
      "[CV] svc__C=0.001, tfidf__ngram_range=(1, 2) .........................\n",
      "[CV] svc__C=0.001, tfidf__ngram_range=(1, 2) .........................\n",
      "[CV] .......... svc__C=0.001, tfidf__ngram_range=(1, 2), total=   1.9s\n",
      "[CV] svc__C=0.001, tfidf__ngram_range=(1, 2) .........................\n",
      "[CV] .......... svc__C=0.001, tfidf__ngram_range=(1, 2), total=   1.9s\n",
      "[CV] svc__C=0.001, tfidf__ngram_range=(1, 2) .........................\n",
      "[CV] .......... svc__C=0.001, tfidf__ngram_range=(1, 2), total=   1.9s\n",
      "[CV] svc__C=0.001, tfidf__ngram_range=(1, 2) .........................\n",
      "[CV] .......... svc__C=0.001, tfidf__ngram_range=(1, 2), total=   2.0s\n",
      "[CV] svc__C=0.001, tfidf__ngram_range=(1, 2) .........................\n",
      "[CV] .......... svc__C=0.001, tfidf__ngram_range=(1, 2), total=   1.9s\n",
      "[CV] .......... svc__C=0.001, tfidf__ngram_range=(1, 2), total=   1.8s\n",
      "[CV] svc__C=0.001, tfidf__ngram_range=(1, 2) .........................\n",
      "[CV] svc__C=0.001, tfidf__ngram_range=(1, 2) .........................\n",
      "[CV] .......... svc__C=0.001, tfidf__ngram_range=(1, 2), total=   1.8s\n",
      "[CV] svc__C=0.01, tfidf__ngram_range=(1, 2) ..........................\n",
      "[CV] .......... svc__C=0.001, tfidf__ngram_range=(1, 2), total=   1.8s\n",
      "[CV] svc__C=0.01, tfidf__ngram_range=(1, 2) ..........................\n",
      "[CV] .......... svc__C=0.001, tfidf__ngram_range=(1, 2), total=   1.9s\n",
      "[CV] svc__C=0.01, tfidf__ngram_range=(1, 2) ..........................\n",
      "[CV] .......... svc__C=0.001, tfidf__ngram_range=(1, 2), total=   1.9s\n",
      "[CV] svc__C=0.01, tfidf__ngram_range=(1, 2) ..........................\n",
      "[CV] ........... svc__C=0.01, tfidf__ngram_range=(1, 2), total=   1.8s\n",
      "[CV] ........... svc__C=0.01, tfidf__ngram_range=(1, 2), total=   1.8s\n",
      "[CV] svc__C=0.01, tfidf__ngram_range=(1, 2) ..........................\n",
      "[CV] svc__C=0.01, tfidf__ngram_range=(1, 2) ..........................\n",
      "[CV] ........... svc__C=0.01, tfidf__ngram_range=(1, 2), total=   1.9s\n",
      "[CV] svc__C=0.01, tfidf__ngram_range=(1, 2) ..........................\n",
      "[CV] ........... svc__C=0.01, tfidf__ngram_range=(1, 2), total=   1.9s\n",
      "[CV] svc__C=0.01, tfidf__ngram_range=(1, 2) ..........................\n",
      "[CV] ........... svc__C=0.01, tfidf__ngram_range=(1, 2), total=   1.8s\n",
      "[CV] ........... svc__C=0.01, tfidf__ngram_range=(1, 2), total=   1.9s\n",
      "[CV] svc__C=0.01, tfidf__ngram_range=(1, 2) ..........................\n",
      "[CV] svc__C=0.01, tfidf__ngram_range=(1, 2) ..........................\n",
      "[CV] ........... svc__C=0.01, tfidf__ngram_range=(1, 2), total=   1.8s\n",
      "[CV] svc__C=0.1, tfidf__ngram_range=(1, 2) ...........................\n",
      "[CV] ........... svc__C=0.01, tfidf__ngram_range=(1, 2), total=   1.9s\n",
      "[CV] ........... svc__C=0.01, tfidf__ngram_range=(1, 2), total=   1.8s\n",
      "[CV] svc__C=0.1, tfidf__ngram_range=(1, 2) ...........................\n",
      "[CV] svc__C=0.1, tfidf__ngram_range=(1, 2) ...........................\n",
      "[CV] ........... svc__C=0.01, tfidf__ngram_range=(1, 2), total=   1.9s\n",
      "[CV] svc__C=0.1, tfidf__ngram_range=(1, 2) ...........................\n",
      "[CV] ............ svc__C=0.1, tfidf__ngram_range=(1, 2), total=   1.8s\n",
      "[CV] svc__C=0.1, tfidf__ngram_range=(1, 2) ...........................\n",
      "[CV] ............ svc__C=0.1, tfidf__ngram_range=(1, 2), total=   1.9s\n",
      "[CV] svc__C=0.1, tfidf__ngram_range=(1, 2) ...........................\n",
      "[CV] ............ svc__C=0.1, tfidf__ngram_range=(1, 2), total=   1.8s\n",
      "[CV] ............ svc__C=0.1, tfidf__ngram_range=(1, 2), total=   1.9s\n",
      "[CV] svc__C=0.1, tfidf__ngram_range=(1, 2) ...........................\n",
      "[CV] svc__C=0.1, tfidf__ngram_range=(1, 2) ...........................\n",
      "[CV] ............ svc__C=0.1, tfidf__ngram_range=(1, 2), total=   1.9s\n",
      "[CV] svc__C=0.1, tfidf__ngram_range=(1, 2) ...........................\n",
      "[CV] ............ svc__C=0.1, tfidf__ngram_range=(1, 2), total=   1.9s\n",
      "[CV] svc__C=0.1, tfidf__ngram_range=(1, 2) ...........................\n",
      "[CV] ............ svc__C=0.1, tfidf__ngram_range=(1, 2), total=   1.9s\n",
      "[CV] svc__C=1, tfidf__ngram_range=(1, 2) .............................\n",
      "[CV] ............ svc__C=0.1, tfidf__ngram_range=(1, 2), total=   1.8s\n",
      "[CV] svc__C=1, tfidf__ngram_range=(1, 2) .............................\n",
      "[CV] ............ svc__C=0.1, tfidf__ngram_range=(1, 2), total=   1.8s\n",
      "[CV] svc__C=1, tfidf__ngram_range=(1, 2) .............................\n",
      "[CV] ............ svc__C=0.1, tfidf__ngram_range=(1, 2), total=   1.9s\n",
      "[CV] svc__C=1, tfidf__ngram_range=(1, 2) .............................\n",
      "[CV] .............. svc__C=1, tfidf__ngram_range=(1, 2), total=   1.9s\n",
      "[CV] svc__C=1, tfidf__ngram_range=(1, 2) .............................\n",
      "[CV] .............. svc__C=1, tfidf__ngram_range=(1, 2), total=   2.0s\n",
      "[CV] svc__C=1, tfidf__ngram_range=(1, 2) .............................\n",
      "[CV] .............. svc__C=1, tfidf__ngram_range=(1, 2), total=   2.0s\n",
      "[CV] svc__C=1, tfidf__ngram_range=(1, 2) .............................\n"
     ]
    },
    {
     "name": "stderr",
     "output_type": "stream",
     "text": [
      "[Parallel(n_jobs=-1)]: Done  33 tasks      | elapsed:   24.7s\n"
     ]
    },
    {
     "name": "stdout",
     "output_type": "stream",
     "text": [
      "[CV] .............. svc__C=1, tfidf__ngram_range=(1, 2), total=   2.0s\n",
      "[CV] svc__C=1, tfidf__ngram_range=(1, 2) .............................\n",
      "[CV] .............. svc__C=1, tfidf__ngram_range=(1, 2), total=   2.0s\n",
      "[CV] svc__C=1, tfidf__ngram_range=(1, 2) .............................\n",
      "[CV] .............. svc__C=1, tfidf__ngram_range=(1, 2), total=   2.0s\n",
      "[CV] svc__C=1, tfidf__ngram_range=(1, 2) .............................\n",
      "[CV] .............. svc__C=1, tfidf__ngram_range=(1, 2), total=   1.9s\n",
      "[CV] svc__C=10, tfidf__ngram_range=(1, 2) ............................\n",
      "[CV] .............. svc__C=1, tfidf__ngram_range=(1, 2), total=   2.0s\n",
      "[CV] svc__C=10, tfidf__ngram_range=(1, 2) ............................\n",
      "[CV] .............. svc__C=1, tfidf__ngram_range=(1, 2), total=   2.0s\n",
      "[CV] svc__C=10, tfidf__ngram_range=(1, 2) ............................\n",
      "[CV] .............. svc__C=1, tfidf__ngram_range=(1, 2), total=   1.9s\n",
      "[CV] svc__C=10, tfidf__ngram_range=(1, 2) ............................\n",
      "[CV] ............. svc__C=10, tfidf__ngram_range=(1, 2), total=   4.2s\n",
      "[CV] svc__C=10, tfidf__ngram_range=(1, 2) ............................\n",
      "[CV] ............. svc__C=10, tfidf__ngram_range=(1, 2), total=   4.3s\n",
      "[CV] svc__C=10, tfidf__ngram_range=(1, 2) ............................\n",
      "[CV] ............. svc__C=10, tfidf__ngram_range=(1, 2), total=   4.4s\n",
      "[CV] svc__C=10, tfidf__ngram_range=(1, 2) ............................\n",
      "[CV] ............. svc__C=10, tfidf__ngram_range=(1, 2), total=   4.9s\n",
      "[CV] svc__C=10, tfidf__ngram_range=(1, 2) ............................\n",
      "[CV] ............. svc__C=10, tfidf__ngram_range=(1, 2), total=   3.8s\n",
      "[CV] svc__C=10, tfidf__ngram_range=(1, 2) ............................\n",
      "[CV] ............. svc__C=10, tfidf__ngram_range=(1, 2), total=   4.3s\n",
      "[CV] svc__C=10, tfidf__ngram_range=(1, 2) ............................\n",
      "[CV] ............. svc__C=10, tfidf__ngram_range=(1, 2), total=   4.2s\n",
      "[CV] svc__C=100, tfidf__ngram_range=(1, 2) ...........................\n",
      "[CV] ............. svc__C=10, tfidf__ngram_range=(1, 2), total=   4.3s\n",
      "[CV] svc__C=100, tfidf__ngram_range=(1, 2) ...........................\n",
      "[CV] ............. svc__C=10, tfidf__ngram_range=(1, 2), total=   4.4s\n",
      "[CV] svc__C=100, tfidf__ngram_range=(1, 2) ...........................\n",
      "[CV] ............. svc__C=10, tfidf__ngram_range=(1, 2), total=   5.0s\n",
      "[CV] svc__C=100, tfidf__ngram_range=(1, 2) ...........................\n",
      "[CV] ............ svc__C=100, tfidf__ngram_range=(1, 2), total=   9.5s\n",
      "[CV] ............ svc__C=100, tfidf__ngram_range=(1, 2), total=   9.4s\n",
      "[CV] svc__C=100, tfidf__ngram_range=(1, 2) ...........................\n",
      "[CV] svc__C=100, tfidf__ngram_range=(1, 2) ...........................\n",
      "[CV] ............ svc__C=100, tfidf__ngram_range=(1, 2), total=   9.3s\n",
      "[CV] svc__C=100, tfidf__ngram_range=(1, 2) ...........................\n",
      "[CV] ............ svc__C=100, tfidf__ngram_range=(1, 2), total=   9.7s\n",
      "[CV] svc__C=100, tfidf__ngram_range=(1, 2) ...........................\n",
      "[CV] ............ svc__C=100, tfidf__ngram_range=(1, 2), total=   9.5s\n",
      "[CV] svc__C=100, tfidf__ngram_range=(1, 2) ...........................\n",
      "[CV] ............ svc__C=100, tfidf__ngram_range=(1, 2), total=   9.6s\n",
      "[CV] svc__C=100, tfidf__ngram_range=(1, 2) ...........................\n",
      "[CV] ............ svc__C=100, tfidf__ngram_range=(1, 2), total=   9.1s\n",
      "[CV] ............ svc__C=100, tfidf__ngram_range=(1, 2), total=   9.3s\n",
      "[CV] ............ svc__C=100, tfidf__ngram_range=(1, 2), total=   8.3s\n",
      "[CV] ............ svc__C=100, tfidf__ngram_range=(1, 2), total=   8.2s\n"
     ]
    },
    {
     "name": "stderr",
     "output_type": "stream",
     "text": [
      "[Parallel(n_jobs=-1)]: Done  60 out of  60 | elapsed:  1.1min finished\n"
     ]
    },
    {
     "name": "stdout",
     "output_type": "stream",
     "text": [
      "Pipeline(memory=None,\n",
      "     steps=[('tfidf', TfidfVectorizer(analyzer='word', binary=False, decode_error='strict',\n",
      "        dtype=<class 'numpy.int64'>, encoding='utf-8', input='content',\n",
      "        lowercase=True, max_df=1.0, max_features=None, min_df=1,\n",
      "        ngram_range=(1, 2), norm='l2', preprocessor=None, smooth_idf=True,\n",
      " ...ax_iter=1000,\n",
      "     multi_class='ovr', penalty='l2', random_state=None, tol=0.0001,\n",
      "     verbose=0))])\n",
      "0.9662090813093981\n"
     ]
    }
   ],
   "source": [
    "params = {\"tfidf__ngram_range\": [(1, 2)], \"svc__C\": [0.001,.01, .1, 1, 10, 100]}\n",
    "\n",
    "clf = Pipeline([(\"tfidf\", TfidfVectorizer(sublinear_tf=True, stop_words=stoplist_combined, use_idf=False)), (\"svc\", LinearSVC())])\n",
    "\n",
    "gs = GridSearchCV(clf, params, cv=10, verbose=2, n_jobs=-1)\n",
    "\n",
    "gs.fit(train['tweet'], train_tags)\n",
    "# vPredict = gs.predict(valid_set)\n",
    "# trPredict = gs.predict(train_set)\n",
    "\n",
    "print(gs.best_estimator_)\n",
    "print(gs.best_score_)"
   ]
  },
  {
   "cell_type": "code",
   "execution_count": 162,
   "metadata": {},
   "outputs": [],
   "source": [
    "vPredict = gs.predict(valid['tweet'])\n",
    "trPredict = gs.predict(train['tweet'])"
   ]
  },
  {
   "cell_type": "code",
   "execution_count": 163,
   "metadata": {},
   "outputs": [
    {
     "name": "stdout",
     "output_type": "stream",
     "text": [
      "LinearSVC  \t\tValid\t\tTrain(K-Fold)\n",
      "\n",
      "Accuracy \t\t 0.97 \t\t 1.0\n",
      "Error    \t\t 0.03 \t\t 0.0\n",
      "Recall   \t\t 0.66 \t\t 1.0\n",
      "Precision\t\t 0.86 \t\t 1.0\n",
      "F1 Score \t\t 0.75 \t\t 1.0\n",
      "\n",
      "Classification Report of  LinearSVC  on test : \n"
     ]
    },
    {
     "data": {
      "image/png": "[encoded data removed]",
      "text/plain": [
       "<Figure size 1152x576 with 4 Axes>"
      ]
     },
     "metadata": {},
     "output_type": "display_data"
    }
   ],
   "source": [
    "printReport(train_tags, trPredict, valid_tags, vPredict, 'LinearSVC')"
   ]
  },
  {
   "cell_type": "code",
   "execution_count": 164,
   "metadata": {},
   "outputs": [
    {
     "name": "stdout",
     "output_type": "stream",
     "text": [
      "LinearSVC  \t\tValid\t\tTrain(K-Fold)\n",
      "\n",
      "Accuracy \t\t 0.97 \t\t 1.0\n",
      "Error    \t\t 0.03 \t\t 0.0\n",
      "Recall   \t\t 0.66 \t\t 1.0\n",
      "Precision\t\t 0.86 \t\t 1.0\n",
      "F1 Score \t\t 0.75 \t\t 1.0\n",
      "\n",
      "Classification Report of  LinearSVC  on test : \n"
     ]
    },
    {
     "data": {
      "image/png": "[encoded data removed]",
      "text/plain": [
       "<Figure size 1152x576 with 4 Axes>"
      ]
     },
     "metadata": {},
     "output_type": "display_data"
    }
   ],
   "source": [
    "printReport(train_tags, trPredict, valid_tags, vPredict, 'LinearSVC')"
   ]
  },
  {
   "cell_type": "code",
   "execution_count": 165,
   "metadata": {},
   "outputs": [],
   "source": [
    "tePred = gs.predict(test['tweet'])"
   ]
  },
  {
   "cell_type": "code",
   "execution_count": 166,
   "metadata": {},
   "outputs": [],
   "source": [
    "prediction = pd.Series(tePred)\n",
    "prediction.index = test['id'].index\n",
    "df = pd.DataFrame({'id': test['id'], 'label': prediction}, index=test.index)\n",
    "\n",
    "df.head()\n",
    "\n",
    "df.to_csv('twitterSVCTuned_LargeNgrams4.csv', index=False)"
   ]
  },
  {
   "cell_type": "code",
   "execution_count": 167,
   "metadata": {},
   "outputs": [
    {
     "ename": "SyntaxError",
     "evalue": "invalid syntax (<ipython-input-167-3da3a50ba107>, line 1)",
     "output_type": "error",
     "traceback": [
      "\u001b[0;36m  File \u001b[0;32m\"<ipython-input-167-3da3a50ba107>\"\u001b[0;36m, line \u001b[0;32m1\u001b[0m\n\u001b[0;31m    --------------\u001b[0m\n\u001b[0m                  ^\u001b[0m\n\u001b[0;31mSyntaxError\u001b[0m\u001b[0;31m:\u001b[0m invalid syntax\n"
     ]
    }
   ],
   "source": [
    "--------------"
   ]
  },
  {
   "cell_type": "code",
   "execution_count": null,
   "metadata": {},
   "outputs": [],
   "source": [
    "clf = MultinomialNB() \n",
    "\n",
    "clf.fit(train_set, train_tags) \n",
    "\n",
    "vPredict = clf.predict(valid_set)\n",
    "trPredict = clf.predict(train_set)"
   ]
  },
  {
   "cell_type": "code",
   "execution_count": null,
   "metadata": {},
   "outputs": [],
   "source": [
    "printReport(train_tags, trPredict, valid_tags, vPredict, 'NaiveBaye')"
   ]
  },
  {
   "cell_type": "code",
   "execution_count": null,
   "metadata": {},
   "outputs": [],
   "source": [
    "clfSvm = SGDClassifier(loss='hinge', penalty='l2')\n",
    "clfSvm.fit(train_set, train_tags) \n",
    "vPredict = clfSvm.predict(valid_set)\n",
    "trPredict = clfSvm.predict(train_set)"
   ]
  },
  {
   "cell_type": "code",
   "execution_count": null,
   "metadata": {},
   "outputs": [],
   "source": [
    "printReport(train_tags, trPredict, valid_tags, vPredict, 'NaiveBaye')"
   ]
  },
  {
   "cell_type": "code",
   "execution_count": null,
   "metadata": {},
   "outputs": [],
   "source": [
    "param_test = {'alpha': [1e-5, 1e-2, 0.1, 1, 100]}"
   ]
  },
  {
   "cell_type": "code",
   "execution_count": null,
   "metadata": {},
   "outputs": [],
   "source": [
    "gsearch = GridSearchCV(estimator= SGDClassifier(loss='hinge', penalty='l2'),\n",
    "                      param_grid=param_test, scoring='f1', n_jobs=4, iid=False, cv=5)"
   ]
  },
  {
   "cell_type": "code",
   "execution_count": null,
   "metadata": {},
   "outputs": [],
   "source": [
    "gsearch.fit(train_set, train_tags)"
   ]
  },
  {
   "cell_type": "code",
   "execution_count": null,
   "metadata": {},
   "outputs": [],
   "source": [
    "vPredict = gsearch.predict(valid_set)\n",
    "trPredict = gsearch.predict(train_set)\n",
    "printReport(train_tags, trPredict, valid_tags, vPredict, 'NaiveBaye')"
   ]
  },
  {
   "cell_type": "code",
   "execution_count": null,
   "metadata": {},
   "outputs": [],
   "source": [
    "tePred = gsearch.predict(test_set)"
   ]
  },
  {
   "cell_type": "code",
   "execution_count": null,
   "metadata": {},
   "outputs": [],
   "source": [
    "tePred"
   ]
  },
  {
   "cell_type": "code",
   "execution_count": null,
   "metadata": {},
   "outputs": [],
   "source": [
    "test.immlk"
   ]
  },
  {
   "cell_type": "code",
   "execution_count": null,
   "metadata": {},
   "outputs": [],
   "source": [
    "prediction = pd.Series(tePred)\n",
    "prediction.index = test['id'].index\n",
    "df = pd.DataFrame({'id': test['id'], 'label': prediction}, index=test.index)\n",
    "\n",
    "df.head()\n",
    "\n",
    "df.to_csv('twitter27_10_Tfidf.csv', index=False)"
   ]
  },
  {
   "cell_type": "code",
   "execution_count": null,
   "metadata": {},
   "outputs": [],
   "source": [
    "df.to_csv('twi.csv', index=True)"
   ]
  },
  {
   "cell_type": "code",
   "execution_count": null,
   "metadata": {},
   "outputs": [],
   "source": []
  },
  {
   "cell_type": "code",
   "execution_count": null,
   "metadata": {},
   "outputs": [],
   "source": [
    "text_clf = Pipeline([('vect', CountVectorizer(analyzer=preprocess_text)),\n",
    "                     ('tfidf', TfidfTransformer()),\n",
    "                     ('clf', SGDClassifier(loss='hinge', penalty='l2')),\n",
    "])"
   ]
  },
  {
   "cell_type": "code",
   "execution_count": null,
   "metadata": {},
   "outputs": [],
   "source": [
    "text_clf.fit(train.tweet, train.label)"
   ]
  },
  {
   "cell_type": "code",
   "execution_count": null,
   "metadata": {},
   "outputs": [],
   "source": [
    "trPredict = text_clf.predict(train.tweet)"
   ]
  },
  {
   "cell_type": "code",
   "execution_count": null,
   "metadata": {},
   "outputs": [],
   "source": [
    "vPredict = text_clf.predict(valid.tweet)"
   ]
  },
  {
   "cell_type": "code",
   "execution_count": null,
   "metadata": {},
   "outputs": [],
   "source": [
    "printReport(train.label, trPredict, valid.label, vPredict, 'NaiveBaye')"
   ]
  },
  {
   "cell_type": "code",
   "execution_count": null,
   "metadata": {},
   "outputs": [],
   "source": [
    "parameters = {'vect__ngram_range': [(1, 1), (1, 2)],\n",
    "              'tfidf__use_idf': (True, False),\n",
    "              'clf__alpha': (1e-2, 1e-3),\n",
    "}\n"
   ]
  },
  {
   "cell_type": "code",
   "execution_count": null,
   "metadata": {},
   "outputs": [],
   "source": [
    "gs_clf = GridSearchCV(text_clf, parameters, cv=5, iid=False, n_jobs=-1, scoring='f1')\n",
    "gs_clf.fit(train.tweet, train.label)\n",
    "vPredict = gs_clf.predict(valid.tweet)\n",
    "trPredict = gs_clf.predict(train.tweet)\n",
    "printReport(train_tags, trPredict, valid_tags, vPredict, 'NaiveBaye')"
   ]
  },
  {
   "cell_type": "code",
   "execution_count": null,
   "metadata": {},
   "outputs": [],
   "source": [
    "# print('Tweet classification accuracy = {}'.format(\n",
    "#         accuracy_score(valid_tags, predictions_valid) * 100)\n",
    "#      )\n",
    "\n",
    "# print('Tweet classification F1 score = {}'.format(\n",
    "#         f1_score(valid_tags, predictions_valid) * 100)\n",
    "#      )"
   ]
  }
 ],
 "metadata": {
  "kernelspec": {
   "display_name": "Python 3",
   "language": "python",
   "name": "python3"
  },
  "language_info": {
   "codemirror_mode": {
    "name": "ipython",
    "version": 3
   },
   "file_extension": ".py",
   "mimetype": "text/x-python",
   "name": "python",
   "nbconvert_exporter": "python",
   "pygments_lexer": "ipython3",
   "version": "3.6.5"
  }
 },
 "nbformat": 4,
 "nbformat_minor": 2
}
